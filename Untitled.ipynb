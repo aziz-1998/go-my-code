{
 "cells": [
  {
   "cell_type": "code",
   "execution_count": 52,
   "metadata": {},
   "outputs": [
    {
     "name": "stdout",
     "output_type": "stream",
     "text": [
      "9\n"
     ]
    }
   ],
   "source": [
    "list=[2,9,5]\n",
    "print(max(list))"
   ]
  },
  {
   "cell_type": "code",
   "execution_count": 33,
   "metadata": {},
   "outputs": [
    {
     "name": "stdout",
     "output_type": "stream",
     "text": [
      "28\n"
     ]
    }
   ],
   "source": [
    "def addlist (list):\n",
    "    total = 0 \n",
    "    for ele in range(0, len(list)): \n",
    "        total = total + list[ele] \n",
    "    return total\n",
    "list = [2,9,5,6,4,2]  \n",
    "print(addlist(list)) \n"
   ]
  },
  {
   "cell_type": "code",
   "execution_count": 46,
   "metadata": {},
   "outputs": [
    {
     "name": "stdout",
     "output_type": "stream",
     "text": [
      "30\n"
     ]
    }
   ],
   "source": [
    "def multiplylist(mylist) :  \n",
    "    result = 1\n",
    "    for x in mylist: \n",
    "         result = result * x  \n",
    "    return result  \n",
    "list=[2,5,3]\n",
    "print(multiplylist(list))"
   ]
  },
  {
   "cell_type": "code",
   "execution_count": 49,
   "metadata": {},
   "outputs": [
    {
     "name": "stdout",
     "output_type": "stream",
     "text": [
      "12\n",
      "45\n"
     ]
    }
   ],
   "source": [
    "total = 0 \n",
    "list = [0,9,5,6,4,2]  \n",
    "L1=[]\n",
    "L2=[]\n",
    "for ele in range(0, len(list)): \n",
    "    if (list[ele] % 2 == 0) : \n",
    "        L1.append(list[ele])\n",
    "    else:\n",
    "        L2.append(list[ele])\n",
    "            \n",
    "print(addlist(L1))\n",
    "print(multiplylist(L2))\n"
   ]
  },
  {
   "cell_type": "code",
   "execution_count": 5,
   "metadata": {},
   "outputs": [
    {
     "name": "stdin",
     "output_type": "stream",
     "text": [
      " green-red-yellow-black-white\n"
     ]
    },
    {
     "name": "stdout",
     "output_type": "stream",
     "text": [
      "black-green-red-white-yellow\n"
     ]
    }
   ],
   "source": [
    "items=[n for n in input().split('-')]\n",
    "items.sort()\n",
    "print('-'.join(items))"
   ]
  },
  {
   "cell_type": "code",
   "execution_count": null,
   "metadata": {},
   "outputs": [],
   "source": []
  },
  {
   "cell_type": "code",
   "execution_count": null,
   "metadata": {},
   "outputs": [],
   "source": []
  }
 ],
 "metadata": {
  "kernelspec": {
   "display_name": "Python 3",
   "language": "python",
   "name": "python3"
  },
  "language_info": {
   "codemirror_mode": {
    "name": "ipython",
    "version": 3
   },
   "file_extension": ".py",
   "mimetype": "text/x-python",
   "name": "python",
   "nbconvert_exporter": "python",
   "pygments_lexer": "ipython3",
   "version": "3.7.6"
  }
 },
 "nbformat": 4,
 "nbformat_minor": 4
}
